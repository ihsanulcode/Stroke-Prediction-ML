{
 "cells": [
  {
   "cell_type": "code",
   "execution_count": 2,
   "id": "cde57409",
   "metadata": {},
   "outputs": [
    {
     "name": "stdout",
     "output_type": "stream",
     "text": [
      "Requirement already satisfied: joblib in c:\\users\\asus\\anaconda3\\lib\\site-packages (1.1.0)\n"
     ]
    }
   ],
   "source": [
    "#!pip install joblib"
   ]
  },
  {
   "cell_type": "code",
   "execution_count": 25,
   "id": "1d7f1bf5",
   "metadata": {},
   "outputs": [
    {
     "name": "stdout",
     "output_type": "stream",
     "text": [
      "0\n"
     ]
    },
    {
     "name": "stderr",
     "output_type": "stream",
     "text": [
      "C:\\Users\\Asus\\anaconda3\\lib\\site-packages\\sklearn\\base.py:450: UserWarning: X does not have valid feature names, but RandomForestClassifier was fitted with feature names\n",
      "  warnings.warn(\n"
     ]
    }
   ],
   "source": [
    "import pickle\n",
    "import joblib\n",
    "import numpy as np\n",
    "from sklearn.preprocessing import StandardScaler\n",
    "\n",
    "# Load the saved trained model\n",
    "with open('model.pkl', 'rb') as f:\n",
    "    model = pickle.load(f)\n",
    "\n",
    "    \n",
    "# Load the scaler object from file\n",
    "scaler = joblib.load('scaler.pkl')\n",
    "\n",
    "# New data\n",
    "\"\"\"\n",
    "data parameter sequence:\n",
    "gender,age,hypertension,heart_disease,ever_married,work_type,Residence_type,avg_glucose_level,bmi,smoking_status\n",
    "\n",
    "Labels and Encodings:\n",
    "Label encoder classes:  ['Female' 'Male' 'Other']\n",
    "Encoded values:  [0 1 2]\n",
    "Label encoder classes:  ['Unknown' 'formerly smoked' 'never smoked' 'smokes']\n",
    "Encoded values:  [0 1 2 3]\n",
    "Label encoder classes:  ['Govt_job' 'Never_worked' 'Private' 'Self-employed' 'Children']\n",
    "Encoded values:  [0 1 2 3 4]\n",
    "Label encoder classes:  ['Rural' 'Urban']\n",
    "Encoded values:  [0 1]\n",
    "Label encoder classes:  ['No' 'Yes']\n",
    "Encoded values:  [0 1]\n",
    "\"\"\"\n",
    "gender = 0\n",
    "age = 65.0\n",
    "hypertension = 0\n",
    "heart_disease = 0\n",
    "ever_married = 1\n",
    "work_type = 3\n",
    "residence_type = 0\n",
    "avg_glucose_level = 167.31\n",
    "bmi = 27.1\n",
    "smoking_status = 2\n",
    "\n",
    "new_data = np.array([\n",
    "    [gender,\n",
    "     age,\n",
    "     hypertension,\n",
    "     heart_disease,\n",
    "     ever_married,\n",
    "     work_type,\n",
    "     residence_type,\n",
    "     avg_glucose_level,\n",
    "     bmi,\n",
    "     smoking_status],\n",
    "])\n",
    "# print(new_data)\n",
    "\n",
    "# Apply the same scaling to the new data\n",
    "# scaler.fit(new_data)\n",
    "# scaled_data = scaler.transform(new_data)\n",
    "scaled_data = scaler.fit_transform(new_data)\n",
    "# print(scaled_data)\n",
    "\n",
    "# Make predictions with the saved model\n",
    "predictions = model.predict(scaled_data)[0]\n",
    "print(prediction)"
   ]
  },
  {
   "cell_type": "code",
   "execution_count": 49,
   "id": "447dd752",
   "metadata": {},
   "outputs": [
    {
     "name": "stdout",
     "output_type": "stream",
     "text": [
      "0\n"
     ]
    },
    {
     "name": "stderr",
     "output_type": "stream",
     "text": [
      "C:\\Users\\Asus\\anaconda3\\lib\\site-packages\\sklearn\\base.py:450: UserWarning: X does not have valid feature names, but RandomForestClassifier was fitted with feature names\n",
      "  warnings.warn(\n"
     ]
    }
   ],
   "source": [
    "import pickle\n",
    "from sklearn.preprocessing import StandardScaler\n",
    "scaler = StandardScaler()\n",
    "\n",
    "#opean the saved model\n",
    "model = pickle.load(open(\"model.pkl\", 'rb'))\n",
    "\n",
    "#extracting form data\n",
    "gender = 'Male'\n",
    "age = float(65.0)\n",
    "hypertension = 'Yes'\n",
    "heart_disease = 'No'\n",
    "ever_married = 'No'\n",
    "work_type = 'Private'\n",
    "residence_type = 'Urben'\n",
    "avg_glucose_level = float(100)\n",
    "bmi = float(35)\n",
    "smoking_status = 'Never smoked'\n",
    "\n",
    "#conversion of input data\n",
    "#gender\n",
    "if (gender == 'Female'):\n",
    "    genderi = 0\n",
    "elif(gender == 'Male'):\n",
    "     genderi = 1\n",
    "else:\n",
    "    genderi = 2\n",
    "\n",
    "#hypertension\n",
    "if (hypertension == 'Yes'):\n",
    "    hypertensioni = 1\n",
    "else:\n",
    "    hypertensioni = 0\n",
    "\n",
    "#heart_disease\n",
    "if (heart_disease == 'Yes'):\n",
    "    heart_diseasei = 1\n",
    "else:\n",
    "    heart_diseasei = 0\n",
    "    \n",
    "#ever_married\n",
    "if(ever_married == 'Yes'):\n",
    "    ever_marriedi = 1\n",
    "else:\n",
    "    ever_marriedi = 0\n",
    "\n",
    "#work_type\n",
    "if(work_type == 'Govt_job'):\n",
    "    work_typei = 0\n",
    "elif(work_type == 'Never_worked'):\n",
    "    work_typei = 1\n",
    "elif(work_type == 'Private'):\n",
    "    work_typei = 2;\n",
    "elif(work_type == 'Self-employed'):\n",
    "    work_typei = 3;\n",
    "elif(work_type == 'Children'):\n",
    "    work_typei = 4;\n",
    "    \n",
    "#residence_type\n",
    "if(residence_type == 'Urban'):\n",
    "    residence_typei = 1\n",
    "else:\n",
    "    residence_typei = 0\n",
    "    \n",
    "#smoking_status\n",
    "if(smoking_status == 'Formerly smoked'):\n",
    "    smoking_statusi = 1\n",
    "elif(smoking_status == 'Never smoked'):\n",
    "    smoking_statusi = 2\n",
    "elif(smoking_status == 'Smokes'):\n",
    "    smoking_statusi = 3\n",
    "else:\n",
    "    smoking_statusi = 0\n",
    "\n",
    "new_data = np.array([\n",
    "    [genderi,\n",
    "     age,\n",
    "     hypertensioni,\n",
    "     heart_diseasei,\n",
    "     ever_marriedi,\n",
    "     work_typei,\n",
    "     residence_typei,\n",
    "     avg_glucose_level,\n",
    "     bmi,\n",
    "     smoking_statusi],\n",
    "])\n",
    "# print(new_data)\n",
    "\n",
    "feature = scaler.fit_transform(new_data)\n",
    "prediction = model.predict(feature)[0]\n",
    "\n",
    "if((hypertensioni == 1) and (age >= 40) and (bmi >= float(40) or avg_glucose_level >= float(100.0))):\n",
    "   prediction = 1\n",
    "    \n",
    "print(prediction)"
   ]
  }
 ],
 "metadata": {
  "kernelspec": {
   "display_name": "Python 3 (ipykernel)",
   "language": "python",
   "name": "python3"
  },
  "language_info": {
   "codemirror_mode": {
    "name": "ipython",
    "version": 3
   },
   "file_extension": ".py",
   "mimetype": "text/x-python",
   "name": "python",
   "nbconvert_exporter": "python",
   "pygments_lexer": "ipython3",
   "version": "3.9.13"
  }
 },
 "nbformat": 4,
 "nbformat_minor": 5
}
